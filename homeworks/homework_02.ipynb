{
 "cells": [
  {
   "cell_type": "markdown",
   "metadata": {},
   "source": [
    "## Homework 02"
   ]
  },
  {
   "cell_type": "markdown",
   "metadata": {},
   "source": [
    "### Exercise 1\n",
    "One half percent of the population has a coronavirus and a test is being developed. This test gives a false positive $3\\%$ of the time and a false negative $2\\%$ of the time. \n",
    "\n",
    "1. Find the probability that Luca is positive to the test.\n",
    "2. Suppose Luca is positive to the test. What is the probability that he has contracted the disease?"
   ]
  },
  {
   "cell_type": "markdown",
   "metadata": {},
   "source": [
    "### Solution\n",
    "\n",
    "Given the events\n",
    "$$\n",
    "\\begin{align}\n",
    "C &= \\text{Luca has contracted the coronavirus} \\\\\n",
    "T &= \\text{Luca is positive to the test}\n",
    "\\end{align}\n",
    "$$\n",
    "\n",
    "we may derive from the exercise description the following probabilities:\n",
    "$$\n",
    "\\begin{align}\n",
    "p(C) &= \\frac{1}{200} &\\text{Probability to be infected}\\\\\n",
    "p(T|\\not C) &= \\frac{3}{100} &\\text{Probability of false positive test}\\\\ \n",
    "p(\\not T|C) &= \\frac{1}{50} &\\text{Probability of false negative test}\n",
    "\\end{align}\n",
    "$$\n",
    "\n",
    "We may now compute the probability of Luca being positive to the test as\n",
    "$$\n",
    "\\begin{align}\n",
    "p(T) &= p(T|\\not C)p(\\not C) + p(T|C)p(C) &\\text{Total Probability}\\\\\n",
    "     &= \\frac{3}{100} (1 -p(C)) + (1 - p(\\not T|C)) \\frac{1}{200} &\\\\\n",
    "     &= \\frac{3}{100} \\frac{199}{200} + \\frac{49}{50} \\frac{1}{200} &\\\\\n",
    "     &= \\frac{597 + 98}{20000} = \\frac{695}{20000} = \\frac{139}{4000} = 3.475\\% &\n",
    "\\end{align}\n",
    "$$\n",
    "\n",
    "While the probability of Luca being infected given that he's passed the test is\n",
    "$$\n",
    "\\begin{align}\n",
    "p(C|T) &= \\frac{p(T|C)p(C)}{p(T)} &\\text{Bayes Theorem}\\\\\n",
    "     &= \\frac{49}{50}\\frac{1}{200}\\frac{4000}{139} &\\\\\n",
    "     &= \\frac{98}{695} \\approx 14.1 \\% &\\\\\n",
    "\\end{align}\n",
    "$$"
   ]
  },
  {
   "cell_type": "markdown",
   "metadata": {},
   "source": [
    "### Exercise 2\n",
    "\n",
    "Implement the empirical cumulative distribution function $F_X(x)=$ `cdf(dist, x)` taking as inputs a `pyro.distributions` object `dist`, corresponding to the distribution of $X$, and a real value `x`.\n",
    "\n",
    "Suppose that $X\\sim \\mathcal{N}(0,1)$ and plot $F_X(x)$."
   ]
  },
  {
   "cell_type": "markdown",
   "metadata": {},
   "source": [
    "### Solution\n",
    "\n",
    "The definition of **empirical cumulative distribution** requires a finite sample $(x_1,\\,\\ldots\\,,\\,x_n)$ from a random variable $X\\sim f(x|\\theta)$ to be defined, which is not mentioned in the exercise description. Furthermore, assuming that `x` is the single input value fed to the (empirical) cumulative density function, I don't understand why it should be an integer! Given these doubts I'll interpret the exercise as follows:\n",
    "\n",
    "> Implement a python function which evaluates the empirical cumulative distribution $F_X(x)$ = `ecdf(sample, x)` taking as input a `sample` array of $n$ values sampled from a `pyro.distribution` object, corresponding to the distribution of $X$, and a floating point value `x` where the function is to be evaluated.\n",
    ">\n",
    "> Suppose that $X \\sim \\mathcal{N}(x|\\mu=0,\\sigma^2=1)$ and plot $F_X(x)$."
   ]
  },
  {
   "cell_type": "code",
   "execution_count": 13,
   "metadata": {},
   "outputs": [
    {
     "data": {
      "image/png": "[encoded data removed]",
      "text/plain": [
       "<Figure size 432x288 with 1 Axes>"
      ]
     },
     "metadata": {
      "needs_background": "light"
     },
     "output_type": "display_data"
    }
   ],
   "source": [
    "import numpy as np\n",
    "import torch\n",
    "import pyro\n",
    "import matplotlib.pyplot as plt\n",
    "\n",
    "# Empirical cumulative distribution function\n",
    "def ecdf(sample, x):\n",
    "    freq = 0\n",
    "    for s in sample:\n",
    "        if s<=x:\n",
    "            freq = freq+1\n",
    "\n",
    "    return freq/len(sample)\n",
    "\n",
    "# Plot ecdf for sample of N(0,1)\n",
    "# NOTE: this code is highly unefficient!\n",
    "pyro.set_rng_seed(77)\n",
    "\n",
    "n = 1000\n",
    "dist = pyro.distributions.Normal(0,1)\n",
    "sample = [ pyro.sample(\"n\",dist) for i in range(n) ]\n",
    "\n",
    "xs = np.arange(-3.0,3.0,0.05)\n",
    "ys = np.array([ecdf(sample,x) for x in xs])\n",
    "\n",
    "fig, ax = plt.subplots()\n",
    "ax.plot(xs,ys)\n",
    "ax.set(xlabel='x', ylabel='ECDF', title='ECDF of N(x|0,1) with sample size = 1000')\n",
    "    \n",
    "plt.show()"
   ]
  },
  {
   "cell_type": "markdown",
   "metadata": {},
   "source": [
    "### Exercise 3\n",
    "\n",
    "Suppose the heights of male students are normally distributed with mean $180$ and unknown variance $\\sigma^2$. Suppose that $\\sigma^2$ is in the range $[22,41]$ with approximately $95\\%$ probability and assign to $\\sigma^2$ an inverse-gamma $IG(38,1110)$ prior distribution .\n",
    "\n",
    "1. Empirically verify that the parameters of the inverse-gamma distribution lead to a prior probability of approximately $95\\%$ that  $\\sigma^2\\in[22,41]$.\n",
    "2. Derive the posterior density of $\\sigma^2$ corresponding to the following data: $183, 173, 181, 170, 176, 180, 187, 176, 171, 190, 184, 173, 176, 179, 181, 186$.\n",
    "Then plot it together with the prior density.\n",
    "3. Compute the posterior density of the standard deviation $\\sigma$."
   ]
  },
  {
   "cell_type": "markdown",
   "metadata": {},
   "source": [
    "### Solution\n",
    "\n",
    "#### 1)"
   ]
  },
  {
   "cell_type": "code",
   "execution_count": 34,
   "metadata": {},
   "outputs": [
    {
     "data": {
      "text/plain": [
       "0.9449"
      ]
     },
     "execution_count": 34,
     "metadata": {},
     "output_type": "execute_result"
    }
   ],
   "source": [
    "#import torch\n",
    "#import pyro\n",
    "\n",
    "n = 10000\n",
    "dist = pyro.distributions.InverseGamma(38,1110)\n",
    "\n",
    "sample = [pyro.sample(\"ig\",dist) for i in range(n)]\n",
    "in_ci = [x for x in sample if 22<=x<=41]\n",
    "len(in_ci)/len(sample)"
   ]
  },
  {
   "cell_type": "markdown",
   "metadata": {},
   "source": [
    "which is about 95% of the sample."
   ]
  },
  {
   "cell_type": "markdown",
   "metadata": {},
   "source": [
    "#### 2)\n",
    "The posterior for $\\sigma^2$ takes the form of an Inverse Gamma distribution:\n",
    "$\\begin{align}\n",
    "p(\\sigma^2|\\vec{x},\\mu) &= \\frac{p(\\vec{x}|\\mu,\\sigma^2)p(\\sigma^2)}{p(\\vec{x})} \\\\\n",
    "&= \\frac{1}{p(\\vec{x})} \\left(\\prod_{x_i \\in \\vec{x}}\\mathcal{N}(x_i|\\mu,\\sigma^2) \\right)\\text{IG}(\\sigma^2|\\alpha,\\beta) \\\\\n",
    "&= \\frac{\\beta^\\alpha}{\\Gamma(\\alpha)p(\\vec{x})\\sqrt{(2\\pi)^n}}\\left(\\frac{1}{\\sigma^2}\\right)^{(\\alpha+n)+1}e^{\\frac{1}{\\sigma^2}\\left(\\beta + \\frac{1}{2} \\sum_{x_i \\in \\vec{x}} (x_i-\\mu)^2\\right)} \\\\\n",
    "&\\propto \\text{IG}(\\sigma^2|\\alpha + n, \\beta + \\frac{1}{2} \\sum_{x_i \\in \\vec{x}} (x_i-\\mu)^2)\n",
    "\\end{align}$\n",
    "\n",
    "Therefore we simply need to compute the values for the parameters and proceed in plotting the densities:"
   ]
  },
  {
   "cell_type": "code",
   "execution_count": 42,
   "metadata": {},
   "outputs": [
    {
     "name": "stdout",
     "output_type": "stream",
     "text": [
      "54 2545.0\n"
     ]
    },
    {
     "data": {
      "text/plain": [
       "[Text(0, 0.5, 'density'),\n",
       " Text(0.5, 0, '$\\\\sigma^2$'),\n",
       " Text(0.5, 1.0, 'prior vs posterior')]"
      ]
     },
     "execution_count": 42,
     "metadata": {},
     "output_type": "execute_result"
    },
    {
     "data": {
      "image/png": "[encoded data removed]",
      "text/plain": [
       "<Figure size 432x288 with 1 Axes>"
      ]
     },
     "metadata": {
      "needs_background": "light"
     },
     "output_type": "display_data"
    }
   ],
   "source": [
    "#import numpy as np\n",
    "#import torch\n",
    "#import pyro\n",
    "import seaborn as sns \n",
    "#import matplotlib.pyplot as plt\n",
    "\n",
    "alpha = 38\n",
    "beta = 1110\n",
    "mu = 0\n",
    "x = np.array([183, 173, 181, 170, 176, 180, 187, 176, 171, 190, 184, 173, 176, 179, 181, 186])\n",
    "\n",
    "alpha2 = alpha + len(x)\n",
    "beta2 = beta + .5*np.sum(x^2)\n",
    "\n",
    "print(alpha2, beta2)\n",
    "\n",
    "prior = pyro.distributions.InverseGamma(alpha,beta)\n",
    "posterior = pyro.distributions.InverseGamma(alpha2,beta2)\n",
    "\n",
    "samplesize = 1000\n",
    "prior_samples = [pyro.sample(\"ig1\",prior) for i in range(samplesize)]\n",
    "posterior_samples = [pyro.sample(\"ig2\",posterior) for i in range(samplesize)]\n",
    "\n",
    "xs = np.arange(10,50,0.1)\n",
    "fig, ax = plt.subplots()\n",
    "sns.distplot(prior_samples)\n",
    "sns.distplot(posterior_samples)\n",
    "ax.set(xlabel='$\\sigma^2$', ylabel='density', title='prior vs posterior')\n",
    "\n"
   ]
  },
  {
   "cell_type": "markdown",
   "metadata": {},
   "source": [
    "#### 3)\n",
    "We may transform the posterior found previously by assuming $\\sigma^2 = g(\\sigma)$, therefore obtaining\n",
    "\n",
    "$$p(\\sigma|\\vec{x},\\mu) = \\text{IG}(\\sigma|\\alpha + n, \\beta + \\frac{1}{2} \\sum_{x_i \\in \\vec{x}} (x_i-\\mu)^2)\\ 2\\sigma$$"
   ]
  },
  {
   "cell_type": "markdown",
   "metadata": {},
   "source": [
    "### Exercise 4\n",
    "\n",
    "Prove that the Gamma distribution is the conjugate prior distribution for the Exponential likelihood."
   ]
  },
  {
   "cell_type": "markdown",
   "metadata": {},
   "source": [
    "### Solution\n",
    "\n",
    "Given\n",
    "$$\n",
    "\\begin{align}\n",
    "X &\\sim \\text{Exp}(x|\\lambda) = \\lambda e^{-\\lambda x}\\\\\n",
    "p(\\lambda) &= \\text{Gamma}(\\lambda|\\alpha,\\beta) = \\frac{\\lambda^{\\alpha -1}\\beta^\\alpha e^{-\\lambda\\beta}}{\\Gamma(\\alpha)}\n",
    "\\end{align}\n",
    "$$\n",
    "the posterior probability takes the form\n",
    "$$\n",
    "\\begin{align}\n",
    "p(\\lambda|x,\\alpha,\\beta) &= \\frac{\\text{Exp}(x|\\lambda)p(\\lambda)}{p(x)}\\\\\n",
    "&=\\frac{ \\lambda e^{-\\lambda x}\\lambda^{\\alpha -1}\\beta^\\alpha e^{-\\lambda\\beta}}{p(x)\\Gamma(\\alpha)}\\\\\n",
    "&= \\frac{\\lambda^{\\alpha}\\beta^\\alpha e^{-\\lambda(\\beta + x)}}{p(x)\\Gamma(\\alpha)}\\\\\n",
    "&= \\frac{\\lambda^{(\\alpha+1)-1}(\\beta+x)^{(\\alpha+1)} e^{-\\lambda(\\beta + x)}}{\\Gamma(\\alpha+1)} \\frac{\\beta^\\alpha\\Gamma(\\alpha+1)}{(\\beta+x)^{(\\alpha+1)}\\Gamma(\\alpha)p(x)} \\propto \\text{Gamma}(\\lambda|\\alpha+1,\\beta+x)\\\\\n",
    "\\end{align}\n",
    "$$"
   ]
  }
 ],
 "metadata": {
  "kernelspec": {
   "display_name": "Python 3",
   "language": "python",
   "name": "python3"
  },
  "language_info": {
   "codemirror_mode": {
    "name": "ipython",
    "version": 3
   },
   "file_extension": ".py",
   "mimetype": "text/x-python",
   "name": "python",
   "nbconvert_exporter": "python",
   "pygments_lexer": "ipython3",
   "version": "3.8.0"
  }
 },
 "nbformat": 4,
 "nbformat_minor": 2
}
